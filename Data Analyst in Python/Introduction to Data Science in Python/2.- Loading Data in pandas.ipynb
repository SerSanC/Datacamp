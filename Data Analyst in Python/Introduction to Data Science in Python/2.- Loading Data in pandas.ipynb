{
 "cells": [
  {
   "cell_type": "markdown",
   "metadata": {},
   "source": [
    "# 2.- Loading Data in pandas\n",
    "-----------"
   ]
  },
  {
   "cell_type": "markdown",
   "metadata": {},
   "source": [
    "## Loading a DataFrame\n",
    "We're still working hard to solve the kidnapping of Bayes, the Golden Retriever. Previously, we used a license plate spotted at the crime scene to narrow the list of suspects to:\n",
    "\n",
    "* Fred Frequentist\n",
    "* Ronald Aylmer Fisher\n",
    "* Gertrude Cox\n",
    "* Kirstine Smith\n",
    "\n",
    "We've obtained credit card records for all four suspects. Perhaps some of them made suspicious purchases before the kidnapping?\n",
    "\n",
    "The records are in a CSV called `\"credit_records.csv\"`."
   ]
  },
  {
   "cell_type": "markdown",
   "metadata": {},
   "source": [
    "### Exercises:\n",
    "* Import the pandas module under the alias pd.\n",
    "* Load the CSV \"credit_records.csv\" into a DataFrame called credit_records.\n",
    "* Display the first five rows of credit_records using the .head() method."
   ]
  },
  {
   "cell_type": "code",
   "execution_count": null,
   "metadata": {},
   "outputs": [],
   "source": [
    "# Import pandas under the alias pd\n",
    "import pandas as pd\n",
    "\n",
    "# Load the CSV \"credit_records.csv\"\n",
    "credit_records = pd.read_csv(\"credit_records.csv\")\n",
    "\n",
    "# Display the first five rows of credit_records using the .head() method\n",
    "print(credit_records.head())"
   ]
  },
  {
   "cell_type": "markdown",
   "metadata": {},
   "source": [
    "------------"
   ]
  },
  {
   "cell_type": "markdown",
   "metadata": {},
   "source": [
    "## Inspecting a DataFrame\n",
    "We've loaded the credit card records of our four suspects into a DataFrame called `credit_records`. Let's learn more about the structure of this DataFrame.\n",
    "\n",
    "The `pandas` module has been imported under the alias `pd`. The DataFrame `credit_records` has already been imported.\n",
    "\n",
    "How many rows are in `credit_records`?"
   ]
  },
  {
   "cell_type": "markdown",
   "metadata": {},
   "source": [
    "### Exercises:\n",
    "\n",
    "* Use the `.info()` method to inspect the DataFrame credit_records"
   ]
  },
  {
   "cell_type": "code",
   "execution_count": null,
   "metadata": {},
   "outputs": [],
   "source": [
    "#Use .info() to inspect the DataFrame credit_records\n",
    "print(credit_records.info())"
   ]
  },
  {
   "cell_type": "markdown",
   "metadata": {},
   "source": [
    "* How many rows are in credit_records?\n",
    "\n",
    "    * Possible Answers\n",
    "\n",
    "        - [] => 103\n",
    "\n",
    "        - [X] => 104\n",
    "\n",
    "        - [] => 5\n",
    "\n",
    "        - [] => 64"
   ]
  },
  {
   "cell_type": "markdown",
   "metadata": {},
   "source": [
    "--------------"
   ]
  },
  {
   "cell_type": "markdown",
   "metadata": {},
   "source": [
    "## Two methods for selecting columns\n",
    "Once again, we've loaded the credit card records of our four suspects into a DataFrame called `credit_records`. Let's examine the items that they've purchased.\n",
    "\n",
    "The `pandas` module has been imported under the alias `pd`. The DataFrame `credit_records` has already been imported.\n",
    "\n",
    "### Exercises:\n",
    "* Select the column `item` from `credit_records` using brackets and string notation.\n"
   ]
  },
  {
   "cell_type": "code",
   "execution_count": null,
   "metadata": {},
   "outputs": [],
   "source": [
    "# Select the column item from credit_records\n",
    "# Use brackets and string notation\n",
    "items = credit_records['item']\n",
    "\n",
    "# Display the results\n",
    "print(items)"
   ]
  },
  {
   "cell_type": "markdown",
   "metadata": {},
   "source": [
    "* Select the column `item` from `credit_records` using dot notation."
   ]
  },
  {
   "cell_type": "code",
   "execution_count": null,
   "metadata": {},
   "outputs": [],
   "source": [
    "# Select the column item from credit_records\n",
    "# Use dot notation\n",
    "items = credit_records.item\n",
    "\n",
    "# Display the results\n",
    "print(items)"
   ]
  },
  {
   "cell_type": "markdown",
   "metadata": {},
   "source": [
    "---------"
   ]
  },
  {
   "cell_type": "markdown",
   "metadata": {},
   "source": [
    "## Correcting column selection errors\n",
    "A junior detective tried to access the location columns of `credit_records`, but he made some mistakes. Help correct his code so that we can search for suspicious purchases.\n",
    "\n",
    "In all exercises going forward, `pandas` will be imported as `pd`. The DataFrame `credit_records` has already been imported.\n",
    "\n",
    "### Exercise:\n",
    "\n",
    "* Correct the code so that it runs without errors."
   ]
  },
  {
   "cell_type": "code",
   "execution_count": null,
   "metadata": {},
   "outputs": [],
   "source": [
    "# One or more lines of code contain errors.\n",
    "# Fix the errors so that the code runs.\n",
    "\n",
    "# Select the location column in credit_records\n",
    "location = credit_records['location']\n",
    "\n",
    "# Select the item column in credit_records\n",
    "items = credit_records.item\n",
    "\n",
    "# Display results\n",
    "print(location)"
   ]
  },
  {
   "cell_type": "markdown",
   "metadata": {},
   "source": [
    "------------"
   ]
  },
  {
   "cell_type": "markdown",
   "metadata": {},
   "source": [
    "## More column selection mistakes\n",
    "Another junior detective is examining a DataFrame of Missing Puppy Reports. He's made some mistakes that cause the code to fail.\n",
    "\n",
    "The `pandas` module has been loaded under the alias `pd`, and the DataFrame is called `mpr`.\n",
    "\n",
    "### Exercise:\n",
    "\n",
    "* Inspect the DataFrame mpr using info()."
   ]
  },
  {
   "cell_type": "code",
   "execution_count": null,
   "metadata": {},
   "outputs": [],
   "source": [
    "# Use info() to inspect mpr\n",
    "print(mpr.info())"
   ]
  },
  {
   "cell_type": "markdown",
   "metadata": {},
   "source": [
    "* Correct the mistakes in the code so that it runs without errors.\n"
   ]
  },
  {
   "cell_type": "code",
   "execution_count": null,
   "metadata": {},
   "outputs": [],
   "source": [
    "# Use info() to inspect mpr\n",
    "print(mpr.info())\n",
    "\n",
    "# The following code contains one or more errors\n",
    "# Correct the mistakes in the code so that it runs without errors\n",
    "\n",
    "# Select column \"Dog Name\" from mpr\n",
    "name = mpr['Dog Name']\n",
    "\n",
    "# Select column \"Missing?\" from mpr\n",
    "is_missing = mpr['Missing?']\n",
    "\n",
    "# Display the columns\n",
    "print(name)\n",
    "print(is_missing)"
   ]
  },
  {
   "cell_type": "markdown",
   "metadata": {},
   "source": [
    "* Question\n",
    "    Why did this code generate an error?\n",
    "\n",
    "    `name = mpr.Dog Name`\n",
    "    \n",
    "    \n",
    "    - Possible Answers\n",
    "\n",
    "        * [] => We need to remove the space in Dog Name.\n",
    "\n",
    "        * [] => If a column name has capital letters, then it needs to be in brackets and string notation.\n",
    "\n",
    "        * [X] => If a column name contains a space, then it needs to be in brackets and string notation."
   ]
  },
  {
   "cell_type": "markdown",
   "metadata": {},
   "source": [
    "--------"
   ]
  },
  {
   "cell_type": "markdown",
   "metadata": {},
   "source": [
    "\n",
    "## Logical testing\n",
    "Let's practice writing logical statements and displaying the output.\n",
    "\n",
    "Recall that we use the following operators:\n",
    "\n",
    "* == tests that two values are equal.\n",
    "* != tests that two values are not equal.\n",
    "* \\> and < test that greater than or less than, respectively.\n",
    "* \\>= and <= test greater than or equal to or less than or equal to, respectively.\n",
    "\n",
    "### Exercises:\n",
    "\n",
    "* The variable `height_inches` represents the height of a suspect. Is height_inches greater than 70 inches?\n",
    "* The variable `plate1` represents a license plate number of a suspect. Is it equal to FRQ123?\n",
    "* The variable `fur_color` represents the color of Bayes' fur. Check that fur_color is not equal to \"brown\".\n"
   ]
  },
  {
   "cell_type": "code",
   "execution_count": null,
   "metadata": {},
   "outputs": [],
   "source": [
    "# Is height_inches greater than 70 inches?\n",
    "print(height_inches > 70)\n",
    "\n",
    "# Is plate1 equal to \"FRQ123\"?\n",
    "print(plate1 == \"FRQ123\")\n",
    "\n",
    "# Is fur_color not equal to \"brown\"?\n",
    "print(fur_color != \"brown\")"
   ]
  },
  {
   "cell_type": "markdown",
   "metadata": {},
   "source": [
    "----------"
   ]
  },
  {
   "cell_type": "markdown",
   "metadata": {},
   "source": [
    "## Selecting missing puppies\n",
    "Let's return to our DataFrame of missing puppies, which is loaded as `mpr`. Let's select a few different rows to learn more about the other missing dogs.\n",
    "\n",
    "### Exercise: \n",
    "\n",
    "* Select the dogs where `Age` is greater than 2.\n",
    "* Select the dogs whose `Status` is equal to Still Missing.\n",
    "* Select all dogs whose `Dog Breed` is not equal to Poodle."
   ]
  },
  {
   "cell_type": "code",
   "execution_count": null,
   "metadata": {},
   "outputs": [],
   "source": [
    "# Select the dogs where Age is greater than 2\n",
    "greater_than_2 = mpr[mpr.Age > 2]\n",
    "print(greater_than_2)\n",
    "\n",
    "# Select the dogs whose Status is equal to Still Missing\n",
    "still_missing = mpr[mpr.Status =='Still Missing']\n",
    "print(still_missing)\n",
    "\n",
    "# Select all dogs whose Dog Breed is not equal to Poodle\n",
    "not_poodle = mpr[mpr['Dog Breed'] != 'Poodle']\n",
    "print(not_poodle)"
   ]
  },
  {
   "cell_type": "markdown",
   "metadata": {},
   "source": [
    "-----------------"
   ]
  },
  {
   "cell_type": "markdown",
   "metadata": {},
   "source": [
    "## Narrowing the list of suspects\n",
    "In Chapter 1, we found a list of people whose cars matched the description of the one that kidnapped Bayes:\n",
    "\n",
    "* Fred Frequentist\n",
    "* Ronald Aylmer Fisher\n",
    "* Gertrude Cox\n",
    "* Kirstine Smith\n",
    "\n",
    "We'd like to narrow this list down, so we obtained credit card records for each suspect. We'd like to know if any of them recently purchased dog treats to use in the kidnapping. If they did, they would have visited `'Pet Paradise'`.\n",
    "\n",
    "The credit records have been loaded into a DataFrame called `credit_records`.\n",
    "\n",
    "### Exercises:\n",
    "\n",
    "* Select rows of credit_records such that the column location is equal to 'Pet Paradise'.\n"
   ]
  },
  {
   "cell_type": "code",
   "execution_count": null,
   "metadata": {},
   "outputs": [],
   "source": [
    "# Select purchases from 'Pet Paradise'\n",
    "purchase = credit_records[credit_records.location == 'Pet Paradise']\n",
    "\n",
    "# Display\n",
    "print(purchase)"
   ]
  },
  {
   "cell_type": "markdown",
   "metadata": {},
   "source": [
    "* Question\n",
    "    - Which suspects purchased pet supplies before the kidnapping?\n",
    "\n",
    "        - Possible Answers\n",
    "\n",
    "            * [] => Fred Frequentist and Ronald Aylmer Fisher\n",
    "\n",
    "            * [] => Gertrude Cox and Kirstine Smith\n",
    "\n",
    "            * [X] => Fred Frequentist and Gertrude Cox\n",
    "\n",
    "            * [] => Ronald Aylmer Fisher and Kirstine Smith"
   ]
  }
 ],
 "metadata": {
  "interpreter": {
   "hash": "31f2aee4e71d21fbe5cf8b01ff0e069b9275f58929596ceb00d14d90e3e16cd6"
  },
  "kernelspec": {
   "display_name": "Python 3.8.2 64-bit",
   "name": "python3"
  },
  "language_info": {
   "name": "python",
   "version": "3.8.2"
  },
  "orig_nbformat": 4
 },
 "nbformat": 4,
 "nbformat_minor": 2
}
